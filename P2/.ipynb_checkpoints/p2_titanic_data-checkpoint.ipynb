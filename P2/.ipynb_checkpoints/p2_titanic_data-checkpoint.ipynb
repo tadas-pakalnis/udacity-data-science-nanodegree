{
 "cells": [
  {
   "cell_type": "markdown",
   "metadata": {},
   "source": [
    "The questions I want to analyze:\n",
    "\n",
    "1. What relationship exists between between Fare and Pclass? Age and Fare?\n",
    "\n",
    "2. What set of factors made someone more likely to survive for female and men?\n",
    "\n",
    "3. What factors, if any, affect children (<= 10) and elderly (>= 60) survival?\n"
   ]
  },
  {
   "cell_type": "markdown",
   "metadata": {},
   "source": [
    "To begin with, I will have a quick look at the data: view the columns, data types in the columns, whether columns have null values and if they do, how many? Lastly will look at some stats.\n",
    "\n",
    "The interesting columns to analyze seem to be Survived, Pclass, Sex, Age, SibSp (Number of Siblings/Spouses Aboard).\n",
    "\n",
    "The data in terms of null values has troubles only for Age column. I will exclue the Null Age people from the views that contain Age column.\n",
    "\n",
    "The negative correlation between Pclass and other variables is inverted, since Pclass = 1 is the highest class possible. Therefore, the negative correlation between Fare and Pclass is actually showing a positive raltionship between the price paid and class received.\n",
    "\n",
    "The most interesting correlations are for Survived variable. It is relatively highly correlated with the Pclass and Fare variables, which is suggesting that higher socieconomic status guests were more likely to survive.\n",
    "\n",
    "Another interesting statistic is standard deviation. Fare variable seems to exhibit the highest stdev, relative to it's mean value."
   ]
  },
  {
   "cell_type": "code",
   "execution_count": 167,
   "metadata": {
    "collapsed": false
   },
   "outputs": [
    {
     "name": "stdout",
     "output_type": "stream",
     "text": [
      "\n",
      "\n",
      "Check for NaN values and print column names: \n",
      "\n",
      "PassengerId      0\n",
      "Survived         0\n",
      "Pclass           0\n",
      "Name             0\n",
      "Sex              0\n",
      "Age            177\n",
      "SibSp            0\n",
      "Parch            0\n",
      "Ticket           0\n",
      "Fare             0\n",
      "Cabin          687\n",
      "Embarked         2\n",
      "dtype: int64\n",
      "\n",
      "\n",
      "Data stats: \n",
      "\n",
      "       PassengerId    Survived      Pclass         Age       SibSp  \\\n",
      "count   891.000000  891.000000  891.000000  714.000000  891.000000   \n",
      "mean    446.000000    0.383838    2.308642   29.699118    0.523008   \n",
      "std     257.353842    0.486592    0.836071   14.526497    1.102743   \n",
      "min       1.000000    0.000000    1.000000    0.420000    0.000000   \n",
      "25%     223.500000    0.000000    2.000000   20.125000    0.000000   \n",
      "50%     446.000000    0.000000    3.000000   28.000000    0.000000   \n",
      "75%     668.500000    1.000000    3.000000   38.000000    1.000000   \n",
      "max     891.000000    1.000000    3.000000   80.000000    8.000000   \n",
      "\n",
      "            Parch        Fare  \n",
      "count  891.000000  891.000000  \n",
      "mean     0.381594   32.204208  \n",
      "std      0.806057   49.693429  \n",
      "min      0.000000    0.000000  \n",
      "25%      0.000000    7.910400  \n",
      "50%      0.000000   14.454200  \n",
      "75%      0.000000   31.000000  \n",
      "max      6.000000  512.329200  \n",
      "\n",
      "\n",
      "Median values: \n",
      "\n",
      "PassengerId    446.0000\n",
      "Survived         0.0000\n",
      "Pclass           3.0000\n",
      "Age             28.0000\n",
      "SibSp            0.0000\n",
      "Parch            0.0000\n",
      "Fare            14.4542\n",
      "dtype: float64\n",
      "\n",
      "\n",
      "Mode values: \n",
      "\n",
      "   PassengerId  Survived  Pclass  Age  SibSp  Parch  Fare\n",
      "0          NaN         0       3   24      0      0  8.05\n",
      "\n",
      "\n",
      "Correlations between Columns (excludes the NaN values): \n",
      "\n",
      "             PassengerId  Survived    Pclass       Age     SibSp     Parch  \\\n",
      "PassengerId     1.000000 -0.005007 -0.035144  0.036847 -0.057527 -0.001652   \n",
      "Survived       -0.005007  1.000000 -0.338481 -0.077221 -0.035322  0.081629   \n",
      "Pclass         -0.035144 -0.338481  1.000000 -0.369226  0.083081  0.018443   \n",
      "Age             0.036847 -0.077221 -0.369226  1.000000 -0.308247 -0.189119   \n",
      "SibSp          -0.057527 -0.035322  0.083081 -0.308247  1.000000  0.414838   \n",
      "Parch          -0.001652  0.081629  0.018443 -0.189119  0.414838  1.000000   \n",
      "Fare            0.012658  0.257307 -0.549500  0.096067  0.159651  0.216225   \n",
      "\n",
      "                 Fare  \n",
      "PassengerId  0.012658  \n",
      "Survived     0.257307  \n",
      "Pclass      -0.549500  \n",
      "Age          0.096067  \n",
      "SibSp        0.159651  \n",
      "Parch        0.216225  \n",
      "Fare         1.000000  \n",
      "\n",
      "\n",
      "First few data rows: \n",
      "\n"
     ]
    },
    {
     "data": {
      "text/html": [
       "<div>\n",
       "<table border=\"1\" class=\"dataframe\">\n",
       "  <thead>\n",
       "    <tr style=\"text-align: right;\">\n",
       "      <th></th>\n",
       "      <th>PassengerId</th>\n",
       "      <th>Survived</th>\n",
       "      <th>Pclass</th>\n",
       "      <th>Name</th>\n",
       "      <th>Sex</th>\n",
       "      <th>Age</th>\n",
       "      <th>SibSp</th>\n",
       "      <th>Parch</th>\n",
       "      <th>Ticket</th>\n",
       "      <th>Fare</th>\n",
       "      <th>Cabin</th>\n",
       "      <th>Embarked</th>\n",
       "    </tr>\n",
       "  </thead>\n",
       "  <tbody>\n",
       "    <tr>\n",
       "      <th>0</th>\n",
       "      <td>1</td>\n",
       "      <td>0</td>\n",
       "      <td>3</td>\n",
       "      <td>Braund, Mr. Owen Harris</td>\n",
       "      <td>male</td>\n",
       "      <td>22</td>\n",
       "      <td>1</td>\n",
       "      <td>0</td>\n",
       "      <td>A/5 21171</td>\n",
       "      <td>7.2500</td>\n",
       "      <td>NaN</td>\n",
       "      <td>S</td>\n",
       "    </tr>\n",
       "    <tr>\n",
       "      <th>1</th>\n",
       "      <td>2</td>\n",
       "      <td>1</td>\n",
       "      <td>1</td>\n",
       "      <td>Cumings, Mrs. John Bradley (Florence Briggs Th...</td>\n",
       "      <td>female</td>\n",
       "      <td>38</td>\n",
       "      <td>1</td>\n",
       "      <td>0</td>\n",
       "      <td>PC 17599</td>\n",
       "      <td>71.2833</td>\n",
       "      <td>C85</td>\n",
       "      <td>C</td>\n",
       "    </tr>\n",
       "    <tr>\n",
       "      <th>2</th>\n",
       "      <td>3</td>\n",
       "      <td>1</td>\n",
       "      <td>3</td>\n",
       "      <td>Heikkinen, Miss. Laina</td>\n",
       "      <td>female</td>\n",
       "      <td>26</td>\n",
       "      <td>0</td>\n",
       "      <td>0</td>\n",
       "      <td>STON/O2. 3101282</td>\n",
       "      <td>7.9250</td>\n",
       "      <td>NaN</td>\n",
       "      <td>S</td>\n",
       "    </tr>\n",
       "    <tr>\n",
       "      <th>3</th>\n",
       "      <td>4</td>\n",
       "      <td>1</td>\n",
       "      <td>1</td>\n",
       "      <td>Futrelle, Mrs. Jacques Heath (Lily May Peel)</td>\n",
       "      <td>female</td>\n",
       "      <td>35</td>\n",
       "      <td>1</td>\n",
       "      <td>0</td>\n",
       "      <td>113803</td>\n",
       "      <td>53.1000</td>\n",
       "      <td>C123</td>\n",
       "      <td>S</td>\n",
       "    </tr>\n",
       "    <tr>\n",
       "      <th>4</th>\n",
       "      <td>5</td>\n",
       "      <td>0</td>\n",
       "      <td>3</td>\n",
       "      <td>Allen, Mr. William Henry</td>\n",
       "      <td>male</td>\n",
       "      <td>35</td>\n",
       "      <td>0</td>\n",
       "      <td>0</td>\n",
       "      <td>373450</td>\n",
       "      <td>8.0500</td>\n",
       "      <td>NaN</td>\n",
       "      <td>S</td>\n",
       "    </tr>\n",
       "  </tbody>\n",
       "</table>\n",
       "</div>"
      ],
      "text/plain": [
       "   PassengerId  Survived  Pclass  \\\n",
       "0            1         0       3   \n",
       "1            2         1       1   \n",
       "2            3         1       3   \n",
       "3            4         1       1   \n",
       "4            5         0       3   \n",
       "\n",
       "                                                Name     Sex  Age  SibSp  \\\n",
       "0                            Braund, Mr. Owen Harris    male   22      1   \n",
       "1  Cumings, Mrs. John Bradley (Florence Briggs Th...  female   38      1   \n",
       "2                             Heikkinen, Miss. Laina  female   26      0   \n",
       "3       Futrelle, Mrs. Jacques Heath (Lily May Peel)  female   35      1   \n",
       "4                           Allen, Mr. William Henry    male   35      0   \n",
       "\n",
       "   Parch            Ticket     Fare Cabin Embarked  \n",
       "0      0         A/5 21171   7.2500   NaN        S  \n",
       "1      0          PC 17599  71.2833   C85        C  \n",
       "2      0  STON/O2. 3101282   7.9250   NaN        S  \n",
       "3      0            113803  53.1000  C123        S  \n",
       "4      0            373450   8.0500   NaN        S  "
      ]
     },
     "execution_count": 167,
     "metadata": {},
     "output_type": "execute_result"
    }
   ],
   "source": [
    "import pandas as pd\n",
    "import numpy as np\n",
    "import pylab as pl\n",
    "df = pd.read_csv(\"data/titanic/titanic_data.csv\")\n",
    "\n",
    "print '\\n\\nCheck for NaN values and print column names: \\n'\n",
    "print df.isnull().sum()\n",
    "\n",
    "print '\\n\\nData stats: \\n'\n",
    "print df.describe()\n",
    "\n",
    "median = df.median()\n",
    "print '\\n\\nMedian values: \\n\\n', median\n",
    "\n",
    "mode = df.mode(axis=0, numeric_only=True)\n",
    "print '\\n\\nMode values: \\n\\n', mode\n",
    "\n",
    "corr = df.corr()\n",
    "print '\\n\\nCorrelations between Columns (excludes the NaN values): \\n\\n', corr\n",
    "\n",
    "print '\\n\\nFirst few data rows: \\n'\n",
    "df.head()"
   ]
  },
  {
   "cell_type": "markdown",
   "metadata": {},
   "source": [
    "As mentioned above, the Fare variable exhibits highest relative deviations. Looking at the box plot below one can see Fare distribution per class. One immediatelly notices that the classes 2 and 3 are strongly skewed to higher value, while class 1 appears to be rather normaly distributed (although to confirm this, statistical test's need to be performed).\n",
    "\n",
    "Also, looking at scatter plot below the max and min amount for both group are very similar and yet as we'll see below, the class of a person is one of the most important determinants for survival.\n"
   ]
  },
  {
   "cell_type": "code",
   "execution_count": 168,
   "metadata": {
    "collapsed": false
   },
   "outputs": [
    {
     "name": "stdout",
     "output_type": "stream",
     "text": [
      "Populating the interactive namespace from numpy and matplotlib\n"
     ]
    },
    {
     "name": "stderr",
     "output_type": "stream",
     "text": [
      "WARNING: pylab import has clobbered these variables: ['median']\n",
      "`%matplotlib` prevents importing * from pylab and numpy\n"
     ]
    },
    {
     "data": {
      "text/plain": [
       "([<matplotlib.axis.XTick at 0x1b947b00>,\n",
       "  <matplotlib.axis.XTick at 0x1b947be0>,\n",
       "  <matplotlib.axis.XTick at 0x1b979240>],\n",
       " <a list of 3 Text xticklabel objects>)"
      ]
     },
     "execution_count": 168,
     "metadata": {},
     "output_type": "execute_result"
    },
    {
     "data": {
      "image/png": "[encoded data removed]",
      "text/plain": [
       "<matplotlib.figure.Figure at 0x1b121978>"
      ]
     },
     "metadata": {},
     "output_type": "display_data"
    }
   ],
   "source": [
    "%pylab inline\n",
    "\n",
    "data = [df[(df.Pclass == 1) & (df.Fare != max(df['Fare']) )]['Fare'], df[(df.Pclass == 2)]['Fare'], df[(df.Pclass == 3)]['Fare']]\n",
    "\n",
    "\n",
    "fig = plt.figure(figsize=(15, 12))\n",
    "ax = fig.add_subplot(111)\n",
    "ax.boxplot(data)\n",
    "\n",
    "ax.set_title('Fare distribution by class')\n",
    "# ax.set_xlabel('xlabel')\n",
    "ax.set_ylabel('Fare')\n",
    "plt.xticks([1, 2, 3], ['Pclass 1', 'Pclass 2', 'Pclass 3'])\n",
    "\n"
   ]
  },
  {
   "cell_type": "code",
   "execution_count": 169,
   "metadata": {
    "collapsed": false
   },
   "outputs": [
    {
     "name": "stdout",
     "output_type": "stream",
     "text": [
      "Populating the interactive namespace from numpy and matplotlib\n"
     ]
    },
    {
     "data": {
      "image/png": "[encoded data removed]",
      "text/plain": [
       "<matplotlib.figure.Figure at 0x1b69b748>"
      ]
     },
     "metadata": {},
     "output_type": "display_data"
    }
   ],
   "source": [
    "# scatter plot for classes 2 and 3\n",
    "%pylab inline\n",
    "plt.scatter(df[(df.Pclass != 1)]['Pclass'], df[(df.Pclass != 1)]['Fare'], alpha=0.5)\n",
    "plt.xlabel('Pclass')\n",
    "plt.ylabel('Fare')\n",
    "plt.title('Pclass by Fare')\n",
    "\n",
    "plt.show()"
   ]
  },
  {
   "cell_type": "markdown",
   "metadata": {},
   "source": [
    "Below is another way of looking at at Fare variable. Fare and Age have a slightly positive correlation, which is also noticable in the scatter plot."
   ]
  },
  {
   "cell_type": "code",
   "execution_count": 170,
   "metadata": {
    "collapsed": false
   },
   "outputs": [
    {
     "name": "stdout",
     "output_type": "stream",
     "text": [
      "Populating the interactive namespace from numpy and matplotlib\n"
     ]
    },
    {
     "data": {
      "image/png": "[encoded data removed]",
      "text/plain": [
       "<matplotlib.figure.Figure at 0x1b722550>"
      ]
     },
     "metadata": {},
     "output_type": "display_data"
    }
   ],
   "source": [
    "%pylab inline\n",
    "\n",
    "plt.scatter(df['Age'], df['Fare'], alpha=0.5)\n",
    "plt.xlabel('Age')\n",
    "plt.ylabel('Fare')\n",
    "plt.title('Fare by Age')\n",
    "\n",
    "plt.show()\n"
   ]
  },
  {
   "cell_type": "code",
   "execution_count": 171,
   "metadata": {
    "collapsed": false
   },
   "outputs": [
    {
     "data": {
      "text/html": [
       "<div>\n",
       "<table border=\"1\" class=\"dataframe\">\n",
       "  <thead>\n",
       "    <tr style=\"text-align: right;\">\n",
       "      <th></th>\n",
       "      <th>PassengerId</th>\n",
       "      <th>Survived</th>\n",
       "      <th>Pclass</th>\n",
       "      <th>Name</th>\n",
       "      <th>Sex</th>\n",
       "      <th>Age</th>\n",
       "      <th>SibSp</th>\n",
       "      <th>Parch</th>\n",
       "      <th>Ticket</th>\n",
       "      <th>Fare</th>\n",
       "      <th>Cabin</th>\n",
       "      <th>Embarked</th>\n",
       "      <th>Siblings</th>\n",
       "    </tr>\n",
       "  </thead>\n",
       "  <tbody>\n",
       "    <tr>\n",
       "      <th>7</th>\n",
       "      <td>8</td>\n",
       "      <td>0</td>\n",
       "      <td>3</td>\n",
       "      <td>Palsson, Master. Gosta Leonard</td>\n",
       "      <td>male</td>\n",
       "      <td>2</td>\n",
       "      <td>3</td>\n",
       "      <td>1</td>\n",
       "      <td>349909</td>\n",
       "      <td>21.075</td>\n",
       "      <td>NaN</td>\n",
       "      <td>S</td>\n",
       "      <td>4</td>\n",
       "    </tr>\n",
       "    <tr>\n",
       "      <th>10</th>\n",
       "      <td>11</td>\n",
       "      <td>1</td>\n",
       "      <td>3</td>\n",
       "      <td>Sandstrom, Miss. Marguerite Rut</td>\n",
       "      <td>female</td>\n",
       "      <td>4</td>\n",
       "      <td>1</td>\n",
       "      <td>1</td>\n",
       "      <td>PP 9549</td>\n",
       "      <td>16.700</td>\n",
       "      <td>G6</td>\n",
       "      <td>S</td>\n",
       "      <td>2</td>\n",
       "    </tr>\n",
       "    <tr>\n",
       "      <th>13</th>\n",
       "      <td>14</td>\n",
       "      <td>0</td>\n",
       "      <td>3</td>\n",
       "      <td>Andersson, Mr. Anders Johan</td>\n",
       "      <td>male</td>\n",
       "      <td>39</td>\n",
       "      <td>1</td>\n",
       "      <td>5</td>\n",
       "      <td>347082</td>\n",
       "      <td>31.275</td>\n",
       "      <td>NaN</td>\n",
       "      <td>S</td>\n",
       "      <td>6</td>\n",
       "    </tr>\n",
       "    <tr>\n",
       "      <th>16</th>\n",
       "      <td>17</td>\n",
       "      <td>0</td>\n",
       "      <td>3</td>\n",
       "      <td>Rice, Master. Eugene</td>\n",
       "      <td>male</td>\n",
       "      <td>2</td>\n",
       "      <td>4</td>\n",
       "      <td>1</td>\n",
       "      <td>382652</td>\n",
       "      <td>29.125</td>\n",
       "      <td>NaN</td>\n",
       "      <td>Q</td>\n",
       "      <td>5</td>\n",
       "    </tr>\n",
       "    <tr>\n",
       "      <th>24</th>\n",
       "      <td>25</td>\n",
       "      <td>0</td>\n",
       "      <td>3</td>\n",
       "      <td>Palsson, Miss. Torborg Danira</td>\n",
       "      <td>female</td>\n",
       "      <td>8</td>\n",
       "      <td>3</td>\n",
       "      <td>1</td>\n",
       "      <td>349909</td>\n",
       "      <td>21.075</td>\n",
       "      <td>NaN</td>\n",
       "      <td>S</td>\n",
       "      <td>4</td>\n",
       "    </tr>\n",
       "  </tbody>\n",
       "</table>\n",
       "</div>"
      ],
      "text/plain": [
       "    PassengerId  Survived  Pclass                             Name     Sex  \\\n",
       "7             8         0       3   Palsson, Master. Gosta Leonard    male   \n",
       "10           11         1       3  Sandstrom, Miss. Marguerite Rut  female   \n",
       "13           14         0       3      Andersson, Mr. Anders Johan    male   \n",
       "16           17         0       3             Rice, Master. Eugene    male   \n",
       "24           25         0       3    Palsson, Miss. Torborg Danira  female   \n",
       "\n",
       "    Age  SibSp  Parch   Ticket    Fare Cabin Embarked  Siblings  \n",
       "7     2      3      1   349909  21.075   NaN        S         4  \n",
       "10    4      1      1  PP 9549  16.700    G6        S         2  \n",
       "13   39      1      5   347082  31.275   NaN        S         6  \n",
       "16    2      4      1   382652  29.125   NaN        Q         5  \n",
       "24    8      3      1   349909  21.075   NaN        S         4  "
      ]
     },
     "execution_count": 171,
     "metadata": {},
     "output_type": "execute_result"
    }
   ],
   "source": [
    "# create new column where SibSp and Parch are added together\n",
    "df = df.assign(Siblings = lambda x: x.SibSp + x.Parch)\n",
    "df[(df.SibSp >=1) & (df.Parch >= 1)].head()"
   ]
  },
  {
   "cell_type": "markdown",
   "metadata": {},
   "source": [
    "I will look at some simple stats to get a quick overview of the data\n",
    "\n",
    "By looking at some of the initial numbers it is hard to spot a trend and pick the set of charachteristics that would define the highest probability of survival. \n",
    "- However, it looks like the mean age of people who survived is lower than the mean age of all the passengers, thus being younger improves chances of survival. \n",
    "- Next being a female has vastly improved your chances of survival, as one can tell by looking at the numbers that the majority of survived people are female, while being the minority of total passengers.\n",
    "- Furthermore, having a higher socioeconomic status (Pclass) improved ones chances of survival as the majority cicrca 0.5 of not survived people belong to Pclass 3\n",
    "- Lastly, SibSp (number of siblings) appears to have no influence on the likelihood of survival."
   ]
  },
  {
   "cell_type": "code",
   "execution_count": 172,
   "metadata": {
    "collapsed": false
   },
   "outputs": [
    {
     "name": "stdout",
     "output_type": "stream",
     "text": [
      "Number of people in total:  891\n",
      "Number of people survived:  342\n",
      "Number of people did not survive:  549\n",
      "\n",
      "Mean passenger age:  29\n",
      "Mean age of not survived passenger:  30\n",
      "Mean age of survived passenger:  28\n",
      "\n",
      "Mean age of not survived female:  25\n",
      "Mean age of survived female:  28\n",
      "\n",
      "Mean age of not survived male:  31\n",
      "Mean age of survived male:  27\n",
      "\n",
      "Num of male:  577\n",
      "Num of female:  314\n",
      "\n",
      "Num of not survived male:  468\n",
      "Num of survived male:  109\n",
      "\n",
      "Num of not survived female:  81\n",
      "Num of survived female:  233\n",
      "\n",
      "Survived Class 1:  136\n",
      "Not Survived Class 1:  80\n",
      "Survived Class 2:  87\n",
      "Not Survived Class 2:  97\n",
      "Survived Class 3:  119\n",
      "Not Survived Class 3:  372\n",
      "\n",
      "Total num of passenger with Siblings (>=1):  283\n",
      "Total num of passenger with Siblings (>=1) who survived:  132\n",
      "Total num of passenger with Siblings (>=1) who have not survived:  151\n",
      "\n",
      "Mean num of Siblings:  0.523007856341\n",
      "Mean num of Siblings for survived passenger:  0.473684210526\n",
      "Mean num of Siblings for not survived passenger:  0.553734061931\n"
     ]
    }
   ],
   "source": [
    "\n",
    "print 'Number of people in total: ', df.shape[0]\n",
    "print 'Number of people survived: ', df[(df['Survived'] == 1)].shape[0]\n",
    "print 'Number of people did not survive: ', df[(df['Survived'] == 0)].shape[0]\n",
    "print '\\nMean passenger age: ', int(np.mean(df['Age']))\n",
    "\n",
    "ageSurvived = df.groupby('Survived')['Age'].mean()\n",
    "print 'Mean age of not survived passenger: ',int(ageSurvived[0])\n",
    "print 'Mean age of survived passenger: ',int(ageSurvived[1])\n",
    "\n",
    "ageSurvivedSex = df.groupby(['Sex','Survived'])['Age'].mean()\n",
    "print '\\nMean age of not survived female: ',int(ageSurvivedSex['female'][0])\n",
    "print 'Mean age of survived female: ',int(ageSurvivedSex['female'][1])\n",
    "\n",
    "print '\\nMean age of not survived male: ',int(ageSurvivedSex['male'][0])\n",
    "print 'Mean age of survived male: ',int(ageSurvivedSex['male'][1])\n",
    "\n",
    "print '\\nNum of male: ',df[(df.Sex == 'male')]['Sex'].count()\n",
    "print 'Num of female: ',df[(df.Sex == 'female')]['Sex'].count()\n",
    "\n",
    "print '\\nNum of not survived male: ',df[(df.Survived != 1) & (df.Sex == 'male')]['SibSp'].count()\n",
    "print 'Num of survived male: ',df[(df.Survived == 1) & (df.Sex == 'male')]['SibSp'].count()\n",
    "\n",
    "print '\\nNum of not survived female: ',df[(df.Survived != 1) & (df.Sex == 'female')]['SibSp'].count()\n",
    "print 'Num of survived female: ',df[(df.Survived == 1) & (df.Sex == 'female')]['SibSp'].count()\n",
    "\n",
    "classPassenger = df.groupby('Pclass')['Survived'].aggregate(np.sum)\n",
    "classPassengerNs = df[(df.Survived == 0)].groupby('Pclass')['Survived'].aggregate(len)\n",
    "\n",
    "print '\\nSurvived Class 1: ',int(classPassenger[1])\n",
    "print 'Not Survived Class 1: ',int(classPassengerNs[1])\n",
    "print 'Survived Class 2: ',int(classPassenger[2])\n",
    "print 'Not Survived Class 2: ',int(classPassengerNs[2])\n",
    "print 'Survived Class 3: ',int(classPassenger[3])\n",
    "print 'Not Survived Class 3: ',int(classPassengerNs[3])\n",
    "\n",
    "print '\\nTotal num of passenger with Siblings (>=1): ', df[(df.SibSp >= 1)]['SibSp'].count()\n",
    "print 'Total num of passenger with Siblings (>=1) who survived: ', df[(df.Survived == 1) & (df.SibSp >= 1) ]['SibSp'].count()\n",
    "print 'Total num of passenger with Siblings (>=1) who have not survived: ', df[(df.Survived != 1) & (df.SibSp >= 1)]['SibSp'].count()\n",
    "print '\\nMean num of Siblings: ', df['SibSp'].mean()\n",
    "print 'Mean num of Siblings for survived passenger: ', df[(df.Survived == 1)]['SibSp'].mean()\n",
    "print 'Mean num of Siblings for not survived passenger: ', df[(df.Survived == 0)]['SibSp'].mean()\n"
   ]
  },
  {
   "cell_type": "markdown",
   "metadata": {},
   "source": [
    "Next I will connect the loose numbers and try to identify a set of common stats that improve the chance of survival.\n",
    "\n",
    "The tables below connect all the loose data points above to give a clear overview:\n",
    "\n",
    "- generally, the biggest influence on the survival rate is the sex of the person, that is also confirmed by the 0.5 correalation coeffiecient (negative because female = 0 and male = 1)\n",
    "- the 2nd biggest influence is the class, where the higher the class the higher the survival likelihood\n",
    "\n",
    "- the BEST chance of surivival was for: Female, 1st class, no noticable influence of Age or number of Siblings.\n",
    "- the WORST chance of survival was for: Male, 3rd class, no siblings\n",
    "\n",
    "- the histograms below show the influence of age on the survival likelihood, for females Age does not influence survival percentage, on the other hand male passenger do not have a clear trend, but the late 20s and children below 10 have a better chance of survival.\n"
   ]
  },
  {
   "cell_type": "code",
   "execution_count": 194,
   "metadata": {
    "collapsed": false
   },
   "outputs": [
    {
     "name": "stdout",
     "output_type": "stream",
     "text": [
      "\n",
      "Survived correlation with Sex (1 = male, 0 = female):  -0.543351380658\n",
      "\n",
      "Survived correlation with Siblings:  0.2033670857\n",
      "\n",
      "Survived passenger table: \n",
      "\n",
      "                                 Age  Survived\n",
      "Sex    Pclass SiblingsBin                     \n",
      "female 1      0            34.451613        33\n",
      "              1            35.235294        58\n",
      "       2      0            32.685185        29\n",
      "              1            25.048780        41\n",
      "       3      0            22.380952        37\n",
      "              1            16.865385        35\n",
      "male   1      0            39.650000        25\n",
      "              1            32.846000        20\n",
      "       2      0            37.600000         7\n",
      "              1             5.233000        10\n",
      "       3      0            28.230769        32\n",
      "              1             9.368333        15\n",
      "All                        28.343690       342\n",
      "\n",
      "\n",
      "Not Survived passenger table: \n",
      "\n",
      "                                 Age  Survived\n",
      "Sex    Pclass SiblingsBin                     \n",
      "female 1      0            50.000000         1\n",
      "              1            13.500000         2\n",
      "       2      0            39.666667         3\n",
      "              1            32.333333         3\n",
      "       3      0            25.029412        23\n",
      "              1            23.276316        49\n",
      "male   1      0            47.514706        50\n",
      "              1            40.888889        27\n",
      "       2      0            33.586207        65\n",
      "              1            32.884615        26\n",
      "       3      0            29.338509       232\n",
      "              1            21.046296        68\n",
      "All                        30.626179       549\n"
     ]
    }
   ],
   "source": [
    "def sex (x):\n",
    "    return 1 if x == 'male' else 0\n",
    "\n",
    "series_sex = df['Sex'].apply(sex)\n",
    "df2 = df.assign(SexBin = series_sex)\n",
    "\n",
    "\n",
    "def siblings (x):\n",
    "    return 1 if x >= 1 else 0\n",
    "\n",
    "series_siblings = df['Siblings'].apply(siblings)\n",
    "df2 = df2.assign(SiblingsBin = series_siblings)\n",
    "\n",
    "\n",
    "dfS = df2[(df2.Survived == 1)] #survived\n",
    "dfNS = df2[(df2.Survived == 0)] # not survived\n",
    "\n",
    "print '\\nSurvived correlation with Sex (1 = male, 0 = female): ', df2['SexBin'].corr(df2['Survived'])\n",
    "print '\\nSurvived correlation with Siblings: ', df2['SiblingsBin'].corr(df2['Survived'])\n",
    "\n",
    "print '\\nSurvived passenger table: \\n'\n",
    "print pd.pivot_table(dfS, values=['Survived', 'Age'], index=['Sex', 'Pclass', 'SiblingsBin'], \n",
    "               aggfunc={'Survived':len, 'Age':np.mean }, margins=True)\n",
    "\n",
    "print '\\n\\nNot Survived passenger table: \\n'\n",
    "print pd.pivot_table(dfNS, values=['Survived', 'Age'], index=['Sex', 'Pclass', 'SiblingsBin'], \n",
    "               aggfunc={'Survived':len, 'Age':np.mean }, margins=True)\n",
    "\n",
    "\n"
   ]
  },
  {
   "cell_type": "code",
   "execution_count": 174,
   "metadata": {
    "collapsed": false
   },
   "outputs": [
    {
     "name": "stdout",
     "output_type": "stream",
     "text": [
      "Populating the interactive namespace from numpy and matplotlib\n"
     ]
    },
    {
     "data": {
      "image/png": "[encoded data removed]",
      "text/plain": [
       "<matplotlib.figure.Figure at 0x18a39cf8>"
      ]
     },
     "metadata": {},
     "output_type": "display_data"
    }
   ],
   "source": [
    "df_age_maleS = df[(df.Sex == 'male') & (df.Survived == 1)]['Age']\n",
    "df_age_maleNs = df[(df.Sex == 'male') & (df.Survived == 0)]['Age']\n",
    "df_age_femaleS = df[(df.Sex == 'female') & (df.Survived == 1)]['Age']\n",
    "df_age_femaleNs = df[(df.Sex == 'female') & (df.Survived == 0)]['Age']\n",
    "\n",
    "%pylab inline\n",
    "\n",
    "plt.subplot(221)\n",
    "hist_mS = df_age_maleS.hist()\n",
    "plt.xlabel(\"Age\")\n",
    "plt.ylabel(\"Frequency\")\n",
    "plt.title(\"Survived male\")\n",
    "plt.subplot(222, sharex=hist_mS, sharey=hist_mS)\n",
    "hist_mNs = df_age_maleNs.hist()\n",
    "plt.xlabel(\"Age\")\n",
    "plt.ylabel(\"Frequency\")\n",
    "plt.title(\"Not Survived male\")\n",
    "\n",
    "plt.subplot(223, sharex=hist_mS, sharey=hist_mS)\n",
    "hist_fS = df_age_femaleS.hist()\n",
    "plt.xlabel(\"Age\")\n",
    "plt.ylabel(\"Frequency\")\n",
    "plt.title(\"Survived female\")\n",
    "plt.subplot(224, sharex=hist_mS, sharey=hist_mS)\n",
    "hist_fNs = df_age_femaleNs.hist()\n",
    "plt.xlabel(\"Age\")\n",
    "plt.ylabel(\"Frequency\")\n",
    "plt.title(\"Not Survived female\")\n",
    "\n",
    "subplots_adjust(wspace=0.5, hspace=0.7)"
   ]
  },
  {
   "cell_type": "code",
   "execution_count": 175,
   "metadata": {
    "collapsed": false
   },
   "outputs": [
    {
     "name": "stdout",
     "output_type": "stream",
     "text": [
      "Populating the interactive namespace from numpy and matplotlib\n"
     ]
    },
    {
     "data": {
      "text/plain": [
       "<matplotlib.text.Text at 0x1dd17cf8>"
      ]
     },
     "execution_count": 175,
     "metadata": {},
     "output_type": "execute_result"
    },
    {
     "data": {
      "image/png": "[encoded data removed]",
      "text/plain": [
       "<matplotlib.figure.Figure at 0x13be0128>"
      ]
     },
     "metadata": {},
     "output_type": "display_data"
    }
   ],
   "source": [
    "df_age_survived = df[(df.Survived == 1)]['Age']\n",
    "df_age_not_survived = df[(df.Survived == 0)]['Age']\n",
    "\n",
    "%pylab inline\n",
    "plt.subplot(222)\n",
    "histS = df_age_survived.hist()\n",
    "plt.xlabel(\"Age\")\n",
    "plt.ylabel(\"Frequency\")\n",
    "plt.title(\"Survived\")\n",
    "plt.subplot(221, sharey=histS)\n",
    "histNs = df_age_not_survived.hist()\n",
    "plt.xlabel(\"Age\")\n",
    "plt.ylabel(\"Frequency\")\n",
    "plt.title(\"Not Survived\")\n"
   ]
  },
  {
   "cell_type": "markdown",
   "metadata": {
    "collapsed": true
   },
   "source": [
    "Lastly I want to investigate the survival rate of children and elderly\n",
    "\n",
    "- children survival rate does seem to be influenced by their and in turn their parents class - Pclass. While it is clear that only 1 child from Pclass 1 and 2 did not survive, the fact is that there are half the number of children in these two classes combined than in class 3. Still an argument can be made and is valid, that the Pclass and in turn their parents socioeconomic status is a deciding factor for survival.\n",
    "\n",
    "- regarding the elderly the majority of them did not survive. In this case the Pclass and Sex are not important factors, rather the Age in itself is the deciding factor of not surviving. Although, speaking percentage wise, ~50% of 1st class passengers survived, whereas the 2nd and 3rd classeses have a survival rate of ~25%"
   ]
  },
  {
   "cell_type": "code",
   "execution_count": 176,
   "metadata": {
    "collapsed": false
   },
   "outputs": [
    {
     "name": "stdout",
     "output_type": "stream",
     "text": [
      "Survived children table: \n",
      "\n",
      "               Survived\n",
      "Sex    Pclass          \n",
      "female 2              8\n",
      "       3             11\n",
      "male   1              2\n",
      "       2              9\n",
      "       3              8\n",
      "All                  38\n",
      "\n",
      "Not Survived children table: \n",
      "\n",
      "               Survived\n",
      "Sex    Pclass          \n",
      "female 1              1\n",
      "       3             11\n",
      "male   3             14\n",
      "All                  26\n",
      "Populating the interactive namespace from numpy and matplotlib\n"
     ]
    },
    {
     "data": {
      "text/plain": [
       "<matplotlib.axes._subplots.AxesSubplot at 0x1eceb320>"
      ]
     },
     "execution_count": 176,
     "metadata": {},
     "output_type": "execute_result"
    },
    {
     "data": {
      "image/png": "[encoded data removed]",
      "text/plain": [
       "<matplotlib.figure.Figure at 0x1ecc5208>"
      ]
     },
     "metadata": {},
     "output_type": "display_data"
    }
   ],
   "source": [
    "df_children = df2[(df2.Age <= 10)]\n",
    "\n",
    "print 'Survived children table: \\n'\n",
    "print pd.pivot_table(df_children[(df_children.Survived == 1)], values=['Survived'], index=['Sex', 'Pclass'], \n",
    "               aggfunc={'Survived':len}, margins=True)\n",
    "\n",
    "print '\\nNot Survived children table: \\n'\n",
    "print pd.pivot_table(df_children[(df_children.Survived == 0)], values=['Survived'], index=['Sex', 'Pclass'], \n",
    "               aggfunc={'Survived':len }, margins=True)\n",
    "\n",
    "%pylab inline\n",
    "df_children['Age'].hist()\n"
   ]
  },
  {
   "cell_type": "code",
   "execution_count": 195,
   "metadata": {
    "collapsed": false
   },
   "outputs": [
    {
     "name": "stdout",
     "output_type": "stream",
     "text": [
      "Survived elderly table: \n",
      "\n",
      "               Survived\n",
      "Sex    Pclass          \n",
      "female 1              3\n",
      "       3              1\n",
      "male   1              2\n",
      "       2              1\n",
      "All                   7\n",
      "\n",
      "Not Survived elderly table: \n",
      "\n",
      "             Survived\n",
      "Sex  Pclass          \n",
      "male 1             12\n",
      "     2              3\n",
      "     3              4\n",
      "All                19\n"
     ]
    }
   ],
   "source": [
    "df_elderly = df2[(df2.Age >= 60)]\n",
    "\n",
    "print 'Survived elderly table: \\n'\n",
    "print pd.pivot_table(df_elderly[(df_elderly.Survived == 1)], values=['Survived'], index=['Sex', 'Pclass'], \n",
    "               aggfunc={'Survived':len}, margins=True)\n",
    "\n",
    "print '\\nNot Survived elderly table: \\n'\n",
    "print pd.pivot_table(df_elderly[(df_elderly.Survived == 0)], values=['Survived'], index=['Sex', 'Pclass'], \n",
    "               aggfunc={'Survived':len}, margins=True)"
   ]
  },
  {
   "cell_type": "markdown",
   "metadata": {},
   "source": [
    "Lastly, while the analysis shows some trends, more in depth and analysis with different age groups and actual statistical tests would vastly improve the quality of conclusions. The current relationships are based on cross tabulated data and trends that might seem relevant, yet t-test or z-test could clarify whether an relationship exist or it's due to luck.\n",
    "\n",
    "In addition, some of the most interesting data, for example Age had missing values, which could have significantly impacted the results. In my analysis I have excluded the NaN values, since there's rather no way of extrapolating them based on neighbouring Age values, however it might not always be the best choice, since we're excludeing a significant amount of data from already relatively small sample.\n",
    "\n",
    "Lastly, additional variables not present in the dataset, such as number of rescue boats in total and possibly per Pclass would have been an interesting addition"
   ]
  }
 ],
 "metadata": {
  "kernelspec": {
   "display_name": "Python 2",
   "language": "python",
   "name": "python2"
  },
  "language_info": {
   "codemirror_mode": {
    "name": "ipython",
    "version": 2
   },
   "file_extension": ".py",
   "mimetype": "text/x-python",
   "name": "python",
   "nbconvert_exporter": "python",
   "pygments_lexer": "ipython2",
   "version": "2.7.11"
  }
 },
 "nbformat": 4,
 "nbformat_minor": 0
}
